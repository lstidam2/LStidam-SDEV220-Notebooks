{
 "cells": [
  {
   "cell_type": "code",
   "execution_count": 4,
   "id": "2ab143cc",
   "metadata": {},
   "outputs": [
    {
     "name": "stdout",
     "output_type": "stream",
     "text": [
      "enter vehicle type: Car\n",
      "enter year: 2015\n",
      "enter make: Subaru\n",
      "enter model: Legacy\n",
      "enter number of doors (2 or 4): 4\n",
      "enter roof type (solid or sunroof): solid\n",
      "\n",
      "Vehicle Type: Car\n",
      "Year: 2015\n",
      "Make: Subaru\n",
      "Model: Legacy\n",
      "Number of doors: 4\n",
      "Type of roof: solid\n"
     ]
    }
   ],
   "source": [
    "class Vehicle(object):\n",
    "    def __init__(self, vtype):\n",
    "        self.vtype = vtype\n",
    "class Automobile(Vehicle):\n",
    "    def __init__(self, vtype, year, make, model, doors, roof):\n",
    "        super().__init__(vtype)\n",
    "        self.year= year\n",
    "        self.make= make\n",
    "        self.model= model\n",
    "        self.doors= doors\n",
    "        self.roof= roof\n",
    "\n",
    "\n",
    "\n",
    "\n",
    "\n",
    "#get data\n",
    "#ask for vehicle type \n",
    "vtype=input(\"enter vehicle type: \")\n",
    "v=Vehicle(vtype)\n",
    "\n",
    "#ask for automobile info\n",
    "year=input(\"enter year: \")\n",
    "make= input(\"enter make: \")\n",
    "model= input(\"enter model: \")\n",
    "doors=input(\"enter number of doors (2 or 4): \")\n",
    "roof= input(\"enter roof type (solid or sunroof): \")\n",
    "a=Automobile(vtype, year, make, model, doors, roof)\n",
    "\n",
    "#process and print information\n",
    "print(\"\")\n",
    "print(\"Vehicle Type: \" + v.vtype)\n",
    "print(\"Year: \" +a.year)\n",
    "print(\"Make: \" +a.make)\n",
    "print(\"Model: \" +a.model)\n",
    "print(\"Number of doors: \"+ a.doors)\n",
    "print(\"Type of roof: \" +a.roof)"
   ]
  },
  {
   "cell_type": "code",
   "execution_count": null,
   "id": "deeabd54",
   "metadata": {},
   "outputs": [],
   "source": []
  },
  {
   "cell_type": "code",
   "execution_count": null,
   "id": "491bc57d",
   "metadata": {},
   "outputs": [],
   "source": []
  }
 ],
 "metadata": {
  "kernelspec": {
   "display_name": "Python 3 (ipykernel)",
   "language": "python",
   "name": "python3"
  },
  "language_info": {
   "codemirror_mode": {
    "name": "ipython",
    "version": 3
   },
   "file_extension": ".py",
   "mimetype": "text/x-python",
   "name": "python",
   "nbconvert_exporter": "python",
   "pygments_lexer": "ipython3",
   "version": "3.9.13"
  }
 },
 "nbformat": 4,
 "nbformat_minor": 5
}
