{
 "cells": [
  {
   "cell_type": "code",
   "execution_count": 2,
   "id": "dccfb17a",
   "metadata": {},
   "outputs": [
    {
     "name": "stdout",
     "output_type": "stream",
     "text": [
      "There are 3600 seconds in an hour.\n"
     ]
    }
   ],
   "source": [
    "seconds=60\n",
    "minutes=60\n",
    "hour= seconds*minutes\n",
    "print(\"There are \"+ str(hour)+\" seconds in an hour.\")"
   ]
  },
  {
   "cell_type": "code",
   "execution_count": 3,
   "id": "da68c5e1",
   "metadata": {},
   "outputs": [],
   "source": [
    "seconds_per_hour=hour"
   ]
  },
  {
   "cell_type": "code",
   "execution_count": 4,
   "id": "fbacffda",
   "metadata": {},
   "outputs": [
    {
     "name": "stdout",
     "output_type": "stream",
     "text": [
      "There are 86400 seconds in a day.\n"
     ]
    }
   ],
   "source": [
    "hours=24\n",
    "day=seconds_per_hour*hours\n",
    "print(\"There are \"+ str(day)+\" seconds in a day.\")"
   ]
  },
  {
   "cell_type": "code",
   "execution_count": 5,
   "id": "a6a14a36",
   "metadata": {},
   "outputs": [
    {
     "name": "stdout",
     "output_type": "stream",
     "text": [
      "There are 86400 seconds in a day.\n"
     ]
    }
   ],
   "source": [
    "hours=24\n",
    "seconds_per_day=seconds_per_hour*hours\n",
    "print(\"There are \"+ str(seconds_per_day)+\" seconds in a day.\")"
   ]
  },
  {
   "cell_type": "code",
   "execution_count": 7,
   "id": "fe3a1058",
   "metadata": {},
   "outputs": [
    {
     "name": "stdout",
     "output_type": "stream",
     "text": [
      "24.0\n"
     ]
    }
   ],
   "source": [
    "\n",
    "result=seconds_per_day / seconds_per_hour\n",
    "print(result)"
   ]
  },
  {
   "cell_type": "code",
   "execution_count": 8,
   "id": "7f01eb31",
   "metadata": {},
   "outputs": [
    {
     "name": "stdout",
     "output_type": "stream",
     "text": [
      "24\n"
     ]
    }
   ],
   "source": [
    "result=seconds_per_day // seconds_per_hour\n",
    "print(result)"
   ]
  },
  {
   "cell_type": "markdown",
   "id": "038f8021",
   "metadata": {},
   "source": [
    "yes, the answer is the same"
   ]
  }
 ],
 "metadata": {
  "kernelspec": {
   "display_name": "Python 3 (ipykernel)",
   "language": "python",
   "name": "python3"
  },
  "language_info": {
   "codemirror_mode": {
    "name": "ipython",
    "version": 3
   },
   "file_extension": ".py",
   "mimetype": "text/x-python",
   "name": "python",
   "nbconvert_exporter": "python",
   "pygments_lexer": "ipython3",
   "version": "3.9.13"
  }
 },
 "nbformat": 4,
 "nbformat_minor": 5
}
