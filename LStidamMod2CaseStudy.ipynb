{
 "cells": [
  {
   "cell_type": "code",
   "execution_count": 2,
   "id": "2aa0ee97",
   "metadata": {},
   "outputs": [
    {
     "name": "stdout",
     "output_type": "stream",
     "text": [
      "Enter the student's last name or ZZZ to quit: Marley\n",
      "Enter the student's first name: Bob\n",
      "Enter Marley's GPA: 3.1\n",
      "\n",
      "Enter the student's last name or ZZZ to quit: Banner\n",
      "Enter the student's first name: Bruce\n",
      "Enter Banner's GPA: 3.9\n",
      "Bruce Banner made the Dean's list.\n",
      "Bruce Banner made honor roll.\n",
      "\n",
      "Enter the student's last name or ZZZ to quit: Widow\n",
      "Enter the student's first name: Black\n",
      "Enter Widow's GPA: 4.0\n",
      "Black Widow made the Dean's list.\n",
      "Black Widow made honor roll.\n",
      "\n",
      "Enter the student's last name or ZZZ to quit: Barnes\n",
      "Enter the student's first name: Bucky\n",
      "Enter Barnes's GPA: 3.25\n",
      "Bucky Barnes made honor roll.\n",
      "\n",
      "Enter the student's last name or ZZZ to quit: Parker\n",
      "Enter the student's first name: Peter\n",
      "Enter Parker's GPA: 3.5\n",
      "Peter Parker made the Dean's list.\n",
      "Peter Parker made honor roll.\n",
      "\n",
      "Enter the student's last name or ZZZ to quit: ZZZ\n"
     ]
    }
   ],
   "source": [
    "#Lillia Stidam SDEV 220 \n",
    "#file name: LStidamMod2CaseStudy\n",
    "#program accepts student's name and GPA and test if studnt qualifies for dean's list or honor roll\n",
    "\n",
    "lname= \"\"\n",
    "fname= \"\"\n",
    "gpa= 0.0\n",
    "quit= \"ZZZ\"\n",
    "\n",
    "lname= input(\"Enter the student's last name or ZZZ to quit: \")\n",
    "while lname!= quit:\n",
    "    fname= input(\"Enter the student's first name: \")\n",
    "    gpa=float(input(\"Enter \"+ lname+\"'s GPA: \"))\n",
    "    if gpa>=3.5:\n",
    "        print(fname+ \" \"+ lname+ \" made the Dean's list.\")\n",
    "    if gpa>= 3.25:\n",
    "        print(fname+ \" \"+ lname+ \" made honor roll.\")\n",
    "    print(\"\")\n",
    "    lname= input(\"Enter the student's last name or ZZZ to quit: \")\n",
    "    "
   ]
  },
  {
   "cell_type": "code",
   "execution_count": null,
   "id": "336d0b7c",
   "metadata": {},
   "outputs": [],
   "source": []
  }
 ],
 "metadata": {
  "kernelspec": {
   "display_name": "Python 3 (ipykernel)",
   "language": "python",
   "name": "python3"
  },
  "language_info": {
   "codemirror_mode": {
    "name": "ipython",
    "version": 3
   },
   "file_extension": ".py",
   "mimetype": "text/x-python",
   "name": "python",
   "nbconvert_exporter": "python",
   "pygments_lexer": "ipython3",
   "version": "3.9.13"
  }
 },
 "nbformat": 4,
 "nbformat_minor": 5
}
