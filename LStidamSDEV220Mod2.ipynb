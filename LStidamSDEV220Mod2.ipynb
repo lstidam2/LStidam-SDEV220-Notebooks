{
 "cells": [
  {
   "cell_type": "code",
   "execution_count": 3,
   "id": "a74cafa8",
   "metadata": {},
   "outputs": [
    {
     "name": "stdout",
     "output_type": "stream",
     "text": [
      "guess a number between 1 and 10: 9\n",
      "your guess is too big.\n",
      "guess again: 2\n",
      "your guess is too small.\n",
      "guess again: 7\n",
      "correct! you guessed my number.\n"
     ]
    }
   ],
   "source": [
    "#4.1\n",
    "secret = 7\n",
    "guess = 0\n",
    "active = True\n",
    "guess = int(input(\"guess a number between 1 and 10: \"))\n",
    "while active == True:\n",
    "    if guess>secret: \n",
    "        print(\"your guess is too big.\")\n",
    "        guess= int(input(\"guess again: \"))\n",
    "    elif guess<secret: \n",
    "        print(\"your guess is too small.\")\n",
    "        guess= int(input(\"guess again: \"))\n",
    "    else:\n",
    "        print(\"correct! you guessed my number.\")\n",
    "        active= False"
   ]
  },
  {
   "cell_type": "code",
   "execution_count": 4,
   "id": "b108c65c",
   "metadata": {},
   "outputs": [
    {
     "name": "stdout",
     "output_type": "stream",
     "text": [
      "cherry\n"
     ]
    }
   ],
   "source": [
    "#4.2\n",
    "small = True\n",
    "green = False\n",
    "if small and green: \n",
    "    print(\"pea\")\n",
    "elif small and not green:\n",
    "    print(\"cherry\")\n",
    "elif not small and green:\n",
    "    print(\"watermelon\")\n",
    "elif not small and not green:\n",
    "    print(\"pumpkin\")"
   ]
  },
  {
   "cell_type": "code",
   "execution_count": 5,
   "id": "a685b5d6",
   "metadata": {},
   "outputs": [
    {
     "name": "stdout",
     "output_type": "stream",
     "text": [
      "3\n",
      "2\n",
      "1\n",
      "0\n"
     ]
    }
   ],
   "source": [
    "#6.1\n",
    "numbers = [3, 2, 1, 0]\n",
    "for number in numbers:\n",
    "    print(number)"
   ]
  },
  {
   "cell_type": "code",
   "execution_count": 2,
   "id": "d8232d4a",
   "metadata": {},
   "outputs": [
    {
     "name": "stdout",
     "output_type": "stream",
     "text": [
      "too small\n",
      "too small\n",
      "too small\n",
      "too small\n",
      "too small\n",
      "too small\n",
      "found it!\n"
     ]
    }
   ],
   "source": [
    "#6.2\n",
    "guess_me = 7\n",
    "number=1\n",
    "while True:\n",
    "    if guess_me==number:\n",
    "        print(\"found it!\")\n",
    "        break\n",
    "    elif guess_me> number:\n",
    "        print(\"too small\")\n",
    "    elif guess_me < number:\n",
    "        print(\"oops!\")\n",
    "        break\n",
    "    number= number +1"
   ]
  },
  {
   "cell_type": "code",
   "execution_count": 7,
   "id": "6429a0dc",
   "metadata": {},
   "outputs": [
    {
     "name": "stdout",
     "output_type": "stream",
     "text": [
      "too small\n",
      "too small\n",
      "too small\n",
      "too small\n",
      "too small\n",
      "found it\n"
     ]
    }
   ],
   "source": [
    "#6.3\n",
    "guess_me= 5\n",
    "number=0\n",
    "for number in range(10):\n",
    "    if number> guess_me:\n",
    "        print(\"oops!\")\n",
    "        break\n",
    "    elif number == guess_me:\n",
    "        print(\"found it\")\n",
    "        break\n",
    "    elif number < guess_me:\n",
    "        print(\"too small\")\n",
    "    number= number +1"
   ]
  },
  {
   "cell_type": "code",
   "execution_count": null,
   "id": "5b01feca",
   "metadata": {},
   "outputs": [],
   "source": []
  }
 ],
 "metadata": {
  "kernelspec": {
   "display_name": "Python 3 (ipykernel)",
   "language": "python",
   "name": "python3"
  },
  "language_info": {
   "codemirror_mode": {
    "name": "ipython",
    "version": 3
   },
   "file_extension": ".py",
   "mimetype": "text/x-python",
   "name": "python",
   "nbconvert_exporter": "python",
   "pygments_lexer": "ipython3",
   "version": "3.9.13"
  }
 },
 "nbformat": 4,
 "nbformat_minor": 5
}
